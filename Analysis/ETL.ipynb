{
 "cells": [
  {
   "cell_type": "code",
   "execution_count": 11,
   "id": "b75e673e",
   "metadata": {},
   "outputs": [],
   "source": [
    "import pandas as pd\n",
    "import numpy as np\n",
    "import matplotlib.pyplot as plt\n",
    "import psycopg2                         ## To connect to Postgres Database\n",
    "from dotenv import load_dotenv          ## To access .env file storing credentials\n",
    "import os\n",
    "import openpyxl"
   ]
  },
  {
   "cell_type": "code",
   "execution_count": 12,
   "id": "d9beeaa0",
   "metadata": {},
   "outputs": [],
   "source": [
    "## Read the data in Python for initial screening since the data is small in size here\n",
    "sales = pd.read_excel(r'D:\\Self projects\\E-commerce Data modelling\\Data\\online+retail+ii\\online_retail_II.xlsx')"
   ]
  },
  {
   "cell_type": "code",
   "execution_count": 14,
   "id": "6cc40e49",
   "metadata": {},
   "outputs": [
    {
     "data": {
      "text/html": [
       "<div>\n",
       "<style scoped>\n",
       "    .dataframe tbody tr th:only-of-type {\n",
       "        vertical-align: middle;\n",
       "    }\n",
       "\n",
       "    .dataframe tbody tr th {\n",
       "        vertical-align: top;\n",
       "    }\n",
       "\n",
       "    .dataframe thead th {\n",
       "        text-align: right;\n",
       "    }\n",
       "</style>\n",
       "<table border=\"1\" class=\"dataframe\">\n",
       "  <thead>\n",
       "    <tr style=\"text-align: right;\">\n",
       "      <th></th>\n",
       "      <th>Invoice</th>\n",
       "      <th>StockCode</th>\n",
       "      <th>Description</th>\n",
       "      <th>Quantity</th>\n",
       "      <th>InvoiceDate</th>\n",
       "      <th>Price</th>\n",
       "      <th>Customer ID</th>\n",
       "      <th>Country</th>\n",
       "    </tr>\n",
       "  </thead>\n",
       "  <tbody>\n",
       "    <tr>\n",
       "      <th>0</th>\n",
       "      <td>489434</td>\n",
       "      <td>85048</td>\n",
       "      <td>15CM CHRISTMAS GLASS BALL 20 LIGHTS</td>\n",
       "      <td>12</td>\n",
       "      <td>2009-12-01 07:45:00</td>\n",
       "      <td>6.95</td>\n",
       "      <td>13085.0</td>\n",
       "      <td>United Kingdom</td>\n",
       "    </tr>\n",
       "    <tr>\n",
       "      <th>1</th>\n",
       "      <td>489434</td>\n",
       "      <td>79323P</td>\n",
       "      <td>PINK CHERRY LIGHTS</td>\n",
       "      <td>12</td>\n",
       "      <td>2009-12-01 07:45:00</td>\n",
       "      <td>6.75</td>\n",
       "      <td>13085.0</td>\n",
       "      <td>United Kingdom</td>\n",
       "    </tr>\n",
       "    <tr>\n",
       "      <th>2</th>\n",
       "      <td>489434</td>\n",
       "      <td>79323W</td>\n",
       "      <td>WHITE CHERRY LIGHTS</td>\n",
       "      <td>12</td>\n",
       "      <td>2009-12-01 07:45:00</td>\n",
       "      <td>6.75</td>\n",
       "      <td>13085.0</td>\n",
       "      <td>United Kingdom</td>\n",
       "    </tr>\n",
       "    <tr>\n",
       "      <th>3</th>\n",
       "      <td>489434</td>\n",
       "      <td>22041</td>\n",
       "      <td>RECORD FRAME 7\" SINGLE SIZE</td>\n",
       "      <td>48</td>\n",
       "      <td>2009-12-01 07:45:00</td>\n",
       "      <td>2.10</td>\n",
       "      <td>13085.0</td>\n",
       "      <td>United Kingdom</td>\n",
       "    </tr>\n",
       "    <tr>\n",
       "      <th>4</th>\n",
       "      <td>489434</td>\n",
       "      <td>21232</td>\n",
       "      <td>STRAWBERRY CERAMIC TRINKET BOX</td>\n",
       "      <td>24</td>\n",
       "      <td>2009-12-01 07:45:00</td>\n",
       "      <td>1.25</td>\n",
       "      <td>13085.0</td>\n",
       "      <td>United Kingdom</td>\n",
       "    </tr>\n",
       "  </tbody>\n",
       "</table>\n",
       "</div>"
      ],
      "text/plain": [
       "  Invoice StockCode                          Description  Quantity  \\\n",
       "0  489434     85048  15CM CHRISTMAS GLASS BALL 20 LIGHTS        12   \n",
       "1  489434    79323P                   PINK CHERRY LIGHTS        12   \n",
       "2  489434    79323W                  WHITE CHERRY LIGHTS        12   \n",
       "3  489434     22041         RECORD FRAME 7\" SINGLE SIZE         48   \n",
       "4  489434     21232       STRAWBERRY CERAMIC TRINKET BOX        24   \n",
       "\n",
       "          InvoiceDate  Price  Customer ID         Country  \n",
       "0 2009-12-01 07:45:00   6.95      13085.0  United Kingdom  \n",
       "1 2009-12-01 07:45:00   6.75      13085.0  United Kingdom  \n",
       "2 2009-12-01 07:45:00   6.75      13085.0  United Kingdom  \n",
       "3 2009-12-01 07:45:00   2.10      13085.0  United Kingdom  \n",
       "4 2009-12-01 07:45:00   1.25      13085.0  United Kingdom  "
      ]
     },
     "execution_count": 14,
     "metadata": {},
     "output_type": "execute_result"
    }
   ],
   "source": [
    "sales.head()"
   ]
  },
  {
   "cell_type": "code",
   "execution_count": 34,
   "id": "94071eaa",
   "metadata": {},
   "outputs": [
    {
     "name": "stdout",
     "output_type": "stream",
     "text": [
      "<class 'pandas.core.frame.DataFrame'>\n",
      "RangeIndex: 525461 entries, 0 to 525460\n",
      "Data columns (total 8 columns):\n",
      " #   Column       Non-Null Count   Dtype         \n",
      "---  ------       --------------   -----         \n",
      " 0   Invoice      525461 non-null  object        \n",
      " 1   StockCode    525461 non-null  object        \n",
      " 2   Description  522533 non-null  object        \n",
      " 3   Quantity     525461 non-null  int64         \n",
      " 4   InvoiceDate  525461 non-null  datetime64[ns]\n",
      " 5   Price        525461 non-null  float64       \n",
      " 6   Customer ID  417534 non-null  float64       \n",
      " 7   Country      525461 non-null  object        \n",
      "dtypes: datetime64[ns](1), float64(2), int64(1), object(4)\n",
      "memory usage: 32.1+ MB\n"
     ]
    },
    {
     "data": {
      "text/plain": [
       "(None,\n",
       " Invoice             0\n",
       " StockCode           0\n",
       " Description      2928\n",
       " Quantity            0\n",
       " InvoiceDate         0\n",
       " Price               0\n",
       " Customer ID    107927\n",
       " Country             0\n",
       " dtype: int64)"
      ]
     },
     "execution_count": 34,
     "metadata": {},
     "output_type": "execute_result"
    }
   ],
   "source": [
    "sales.info(), sales.isnull().sum()"
   ]
  },
  {
   "cell_type": "code",
   "execution_count": null,
   "id": "2e400aad",
   "metadata": {},
   "outputs": [
    {
     "data": {
      "text/plain": [
       "6865"
      ]
     },
     "execution_count": 35,
     "metadata": {},
     "output_type": "execute_result"
    }
   ],
   "source": [
    "sales.duplicated().sum()"
   ]
  },
  {
   "cell_type": "markdown",
   "id": "b7698cf8",
   "metadata": {},
   "source": [
    "#### We have 6865 duplicate rows in the dataset because this dataset contains 1 product per row meaning duplicate Transections IDs (Invoice here). So we will introduce a surrgate key to assign a primary key to the facts table"
   ]
  },
  {
   "cell_type": "code",
   "execution_count": 56,
   "id": "c0eb7830",
   "metadata": {},
   "outputs": [],
   "source": [
    "## Changing data types to appropriate ones\n",
    "sales['Customer ID'] = sales['Customer ID'].fillna(-1).astype('Int64')"
   ]
  },
  {
   "cell_type": "code",
   "execution_count": 37,
   "id": "68940eb6",
   "metadata": {},
   "outputs": [
    {
     "data": {
      "text/plain": [
       "Invoice           0\n",
       "StockCode         0\n",
       "Description    2928\n",
       "Quantity          0\n",
       "InvoiceDate       0\n",
       "Price             0\n",
       "Customer ID       0\n",
       "Country           0\n",
       "dtype: int64"
      ]
     },
     "execution_count": 37,
     "metadata": {},
     "output_type": "execute_result"
    }
   ],
   "source": [
    "sales.isnull().sum()"
   ]
  },
  {
   "cell_type": "markdown",
   "id": "cc74b88a",
   "metadata": {},
   "source": [
    "## Designing STAR schema in Postgres by creating dimension and fact tables"
   ]
  },
  {
   "cell_type": "code",
   "execution_count": 3,
   "id": "64e0c1b0",
   "metadata": {},
   "outputs": [],
   "source": [
    "#Create secure connection\n",
    "load_dotenv('D:\\Self projects\\E-commerce Data modelling\\postgres_cred.env')\n",
    "\n",
    "try:\n",
    "    post_con = psycopg2.connect(host = os.getenv('PG_HOST'), \n",
    "                            dbname = os.getenv('PG_DB'), \n",
    "                            user = os.getenv('PG_USER'), \n",
    "                            password = os.getenv('PG_PASSWORD'))\n",
    "except psycopg2.Error as e:\n",
    "    print(e)"
   ]
  },
  {
   "cell_type": "code",
   "execution_count": 5,
   "id": "7e996ed5",
   "metadata": {},
   "outputs": [],
   "source": [
    "# Get the cursor to execute SQL queries using the connection made above\n",
    "cur = post_con.cursor()\n",
    "\n",
    "# set autocommit = True to not save every query manually\n",
    "post_con.set_session(autocommit=True)"
   ]
  },
  {
   "cell_type": "code",
   "execution_count": 6,
   "id": "223cd6ae",
   "metadata": {},
   "outputs": [],
   "source": [
    "# Create a database & connect to the new database by closing the connection to default database\n",
    "\n",
    "try:\n",
    "    cur.execute(\"Create database online_sales\")\n",
    "except psycopg2.Error as e:\n",
    "    print(e)\n",
    "post_con.close()\n",
    "\n",
    "# Connect to new database just created (Database name is read in all small case letters)\n",
    "try:\n",
    "    post_con = psycopg2.connect(host = os.getenv('PG_HOST'), \n",
    "                            dbname = 'online_sales', \n",
    "                            user = os.getenv('PG_USER'), \n",
    "                            password = os.getenv('PG_PASSWORD'))\n",
    "except psycopg2.Error as e:\n",
    "    print(e)"
   ]
  },
  {
   "cell_type": "code",
   "execution_count": 7,
   "id": "576ba949",
   "metadata": {},
   "outputs": [],
   "source": [
    "# Get the cursor to execute SQL queries using the connection made above to a new database\n",
    "cur = post_con.cursor()\n",
    "post_con.set_session(autocommit=True)"
   ]
  },
  {
   "cell_type": "markdown",
   "id": "41ad13f6",
   "metadata": {},
   "source": [
    "+ **Dimensions in Sales table:** StockCode (Product ID), Customer_ID, Invoice_Date  \n",
    "+ **Facts in Sales table:** Quantity, Price (These are measures)"
   ]
  },
  {
   "cell_type": "code",
   "execution_count": null,
   "id": "14ab18e9",
   "metadata": {},
   "outputs": [],
   "source": [
    "## Create Dimension tables\n",
    "cur.execute(\"\"\"\n",
    "            CREATE TABLE dim_customer (\n",
    "            customer_id INT PRIMARY KEY,\n",
    "            country TEXT\n",
    "            );\n",
    "            \"\"\")\n",
    "cur.execute(\"\"\"\n",
    "            CREATE TABLE dim_product (\n",
    "            product_id TEXT PRIMARY KEY,\n",
    "            description TEXT\n",
    "            );\n",
    "            \"\"\")\n",
    "cur.execute(\"\"\"\n",
    "            CREATE TABLE dim_date (\n",
    "            transection_date DATE PRIMARY KEY,\n",
    "            year INT,\n",
    "            month INT,\n",
    "            day INT,\n",
    "            weekday TEXT);\n",
    "            \"\"\")"
   ]
  },
  {
   "cell_type": "code",
   "execution_count": 40,
   "id": "b66f55bf",
   "metadata": {},
   "outputs": [],
   "source": [
    "## Create Facts table\n",
    "cur.execute(\"\"\"\n",
    "            CREATE TABLE fact_sales (\n",
    "            sales_id SERIAL PRIMARY KEY,\n",
    "            invoice_no TEXT,\n",
    "            customer_id INT REFERENCES dim_customer(customer_id),\n",
    "            product_id TEXT REFERENCES dim_product(product_id),\n",
    "            date_id DATE REFERENCES dim_date(transection_date),\n",
    "            quantity INT,\n",
    "            unit_price NUMERIC,\n",
    "            total_price NUMERIC);\n",
    "            \"\"\")"
   ]
  },
  {
   "cell_type": "code",
   "execution_count": 44,
   "id": "7b7be421",
   "metadata": {},
   "outputs": [
    {
     "data": {
      "text/plain": [
       "Index(['Invoice', 'StockCode', 'Description', 'Quantity', 'InvoiceDate',\n",
       "       'Price', 'Customer ID', 'Country'],\n",
       "      dtype='object')"
      ]
     },
     "execution_count": 44,
     "metadata": {},
     "output_type": "execute_result"
    }
   ],
   "source": [
    "sales.columns"
   ]
  },
  {
   "cell_type": "code",
   "execution_count": 69,
   "id": "1af33d21",
   "metadata": {},
   "outputs": [],
   "source": [
    "## Insert data into tables\n",
    "insert_query_customers = \"\"\"\n",
    "    INSERT INTO dim_customer (customer_id, country) VALUES (%s, %s)\n",
    "    ON CONFLICT (customer_id) DO NOTHING;\n",
    "\"\"\"\n",
    "insert_query_product = \"\"\"\n",
    "    INSERT INTO dim_product (product_id, description) VALUES (%s, %s)\n",
    "    ON CONFLICT (product_id) DO NOTHING;\n",
    "\"\"\"\n",
    "insert_query_date = \"\"\"\n",
    "    INSERT INTO dim_date (transection_date, year, month, day, weekday) VALUES (%s, %s, %s, %s, %s)\n",
    "    ON CONFLICT (transection_date) DO NOTHING;\n",
    "\"\"\"\n",
    "\n",
    "for row in sales.itertuples(index=False):\n",
    "    cur.execute(insert_query_customers, (int(row._6), str(row.Country)))\n",
    "    cur.execute(insert_query_product, (str(row.StockCode), str(row.Description)))\n",
    "    cur.execute(insert_query_date, (row.InvoiceDate, row.InvoiceDate.year, row.InvoiceDate.month, row.InvoiceDate.day,row.InvoiceDate.day_name()))"
   ]
  },
  {
   "cell_type": "code",
   "execution_count": 74,
   "id": "f906b7bd",
   "metadata": {},
   "outputs": [],
   "source": [
    "insert_query_facts = \"\"\"\n",
    "    INSERT INTO fact_sales (sales_id, invoice_no, customer_id, product_id, date_id, quantity, unit_price, total_price) VALUES (%s, %s, %s, %s, %s, %s, %s, %s)\n",
    "        ON CONFLICT (sales_id) DO NOTHING;\n",
    "\"\"\"\n",
    "id = 0\n",
    "for row in sales.itertuples(index=False):\n",
    "    id=id+1\n",
    "    cur.execute(insert_query_facts, (id, str(row.Invoice), int(row._6), str(row.StockCode), row.InvoiceDate, row.Quantity, row.Price, row.Price*row.Quantity))"
   ]
  },
  {
   "cell_type": "code",
   "execution_count": 80,
   "id": "a668b220",
   "metadata": {},
   "outputs": [
    {
     "name": "stderr",
     "output_type": "stream",
     "text": [
      "C:\\Users\\pranj\\AppData\\Local\\Temp\\ipykernel_28336\\2872162773.py:1: UserWarning: pandas only supports SQLAlchemy connectable (engine/connection) or database string URI or sqlite3 DBAPI2 connection. Other DBAPI2 objects are not tested. Please consider using SQLAlchemy.\n",
      "  pd.read_sql(\"Select * from fact_sales\", post_con)\n"
     ]
    },
    {
     "data": {
      "text/html": [
       "<div>\n",
       "<style scoped>\n",
       "    .dataframe tbody tr th:only-of-type {\n",
       "        vertical-align: middle;\n",
       "    }\n",
       "\n",
       "    .dataframe tbody tr th {\n",
       "        vertical-align: top;\n",
       "    }\n",
       "\n",
       "    .dataframe thead th {\n",
       "        text-align: right;\n",
       "    }\n",
       "</style>\n",
       "<table border=\"1\" class=\"dataframe\">\n",
       "  <thead>\n",
       "    <tr style=\"text-align: right;\">\n",
       "      <th></th>\n",
       "      <th>sales_id</th>\n",
       "      <th>invoice_no</th>\n",
       "      <th>customer_id</th>\n",
       "      <th>product_id</th>\n",
       "      <th>date_id</th>\n",
       "      <th>quantity</th>\n",
       "      <th>unit_price</th>\n",
       "      <th>total_price</th>\n",
       "    </tr>\n",
       "  </thead>\n",
       "  <tbody>\n",
       "    <tr>\n",
       "      <th>0</th>\n",
       "      <td>1</td>\n",
       "      <td>489434</td>\n",
       "      <td>13085</td>\n",
       "      <td>85048</td>\n",
       "      <td>2009-12-01</td>\n",
       "      <td>12</td>\n",
       "      <td>6.95</td>\n",
       "      <td>83.40</td>\n",
       "    </tr>\n",
       "    <tr>\n",
       "      <th>1</th>\n",
       "      <td>2</td>\n",
       "      <td>489434</td>\n",
       "      <td>13085</td>\n",
       "      <td>79323P</td>\n",
       "      <td>2009-12-01</td>\n",
       "      <td>12</td>\n",
       "      <td>6.75</td>\n",
       "      <td>81.00</td>\n",
       "    </tr>\n",
       "    <tr>\n",
       "      <th>2</th>\n",
       "      <td>3</td>\n",
       "      <td>489434</td>\n",
       "      <td>13085</td>\n",
       "      <td>79323W</td>\n",
       "      <td>2009-12-01</td>\n",
       "      <td>12</td>\n",
       "      <td>6.75</td>\n",
       "      <td>81.00</td>\n",
       "    </tr>\n",
       "    <tr>\n",
       "      <th>3</th>\n",
       "      <td>4</td>\n",
       "      <td>489434</td>\n",
       "      <td>13085</td>\n",
       "      <td>22041</td>\n",
       "      <td>2009-12-01</td>\n",
       "      <td>48</td>\n",
       "      <td>2.10</td>\n",
       "      <td>100.80</td>\n",
       "    </tr>\n",
       "    <tr>\n",
       "      <th>4</th>\n",
       "      <td>5</td>\n",
       "      <td>489434</td>\n",
       "      <td>13085</td>\n",
       "      <td>21232</td>\n",
       "      <td>2009-12-01</td>\n",
       "      <td>24</td>\n",
       "      <td>1.25</td>\n",
       "      <td>30.00</td>\n",
       "    </tr>\n",
       "    <tr>\n",
       "      <th>...</th>\n",
       "      <td>...</td>\n",
       "      <td>...</td>\n",
       "      <td>...</td>\n",
       "      <td>...</td>\n",
       "      <td>...</td>\n",
       "      <td>...</td>\n",
       "      <td>...</td>\n",
       "      <td>...</td>\n",
       "    </tr>\n",
       "    <tr>\n",
       "      <th>525456</th>\n",
       "      <td>525457</td>\n",
       "      <td>538171</td>\n",
       "      <td>17530</td>\n",
       "      <td>22271</td>\n",
       "      <td>2010-12-09</td>\n",
       "      <td>2</td>\n",
       "      <td>2.95</td>\n",
       "      <td>5.90</td>\n",
       "    </tr>\n",
       "    <tr>\n",
       "      <th>525457</th>\n",
       "      <td>525458</td>\n",
       "      <td>538171</td>\n",
       "      <td>17530</td>\n",
       "      <td>22750</td>\n",
       "      <td>2010-12-09</td>\n",
       "      <td>1</td>\n",
       "      <td>3.75</td>\n",
       "      <td>3.75</td>\n",
       "    </tr>\n",
       "    <tr>\n",
       "      <th>525458</th>\n",
       "      <td>525459</td>\n",
       "      <td>538171</td>\n",
       "      <td>17530</td>\n",
       "      <td>22751</td>\n",
       "      <td>2010-12-09</td>\n",
       "      <td>1</td>\n",
       "      <td>3.75</td>\n",
       "      <td>3.75</td>\n",
       "    </tr>\n",
       "    <tr>\n",
       "      <th>525459</th>\n",
       "      <td>525460</td>\n",
       "      <td>538171</td>\n",
       "      <td>17530</td>\n",
       "      <td>20970</td>\n",
       "      <td>2010-12-09</td>\n",
       "      <td>2</td>\n",
       "      <td>3.75</td>\n",
       "      <td>7.50</td>\n",
       "    </tr>\n",
       "    <tr>\n",
       "      <th>525460</th>\n",
       "      <td>525461</td>\n",
       "      <td>538171</td>\n",
       "      <td>17530</td>\n",
       "      <td>21931</td>\n",
       "      <td>2010-12-09</td>\n",
       "      <td>2</td>\n",
       "      <td>1.95</td>\n",
       "      <td>3.90</td>\n",
       "    </tr>\n",
       "  </tbody>\n",
       "</table>\n",
       "<p>525461 rows × 8 columns</p>\n",
       "</div>"
      ],
      "text/plain": [
       "        sales_id invoice_no  customer_id product_id     date_id  quantity  \\\n",
       "0              1     489434        13085      85048  2009-12-01        12   \n",
       "1              2     489434        13085     79323P  2009-12-01        12   \n",
       "2              3     489434        13085     79323W  2009-12-01        12   \n",
       "3              4     489434        13085      22041  2009-12-01        48   \n",
       "4              5     489434        13085      21232  2009-12-01        24   \n",
       "...          ...        ...          ...        ...         ...       ...   \n",
       "525456    525457     538171        17530      22271  2010-12-09         2   \n",
       "525457    525458     538171        17530      22750  2010-12-09         1   \n",
       "525458    525459     538171        17530      22751  2010-12-09         1   \n",
       "525459    525460     538171        17530      20970  2010-12-09         2   \n",
       "525460    525461     538171        17530      21931  2010-12-09         2   \n",
       "\n",
       "        unit_price  total_price  \n",
       "0             6.95        83.40  \n",
       "1             6.75        81.00  \n",
       "2             6.75        81.00  \n",
       "3             2.10       100.80  \n",
       "4             1.25        30.00  \n",
       "...            ...          ...  \n",
       "525456        2.95         5.90  \n",
       "525457        3.75         3.75  \n",
       "525458        3.75         3.75  \n",
       "525459        3.75         7.50  \n",
       "525460        1.95         3.90  \n",
       "\n",
       "[525461 rows x 8 columns]"
      ]
     },
     "execution_count": 80,
     "metadata": {},
     "output_type": "execute_result"
    }
   ],
   "source": [
    "pd.read_sql(\"Select * from fact_sales\", post_con)"
   ]
  },
  {
   "cell_type": "code",
   "execution_count": 84,
   "id": "9e2230c8",
   "metadata": {},
   "outputs": [
    {
     "name": "stderr",
     "output_type": "stream",
     "text": [
      "C:\\Users\\pranj\\AppData\\Local\\Temp\\ipykernel_28336\\1495408117.py:1: UserWarning: pandas only supports SQLAlchemy connectable (engine/connection) or database string URI or sqlite3 DBAPI2 connection. Other DBAPI2 objects are not tested. Please consider using SQLAlchemy.\n",
      "  pd.read_sql(\"Select * from Customer_frequency\", post_con)\n"
     ]
    },
    {
     "data": {
      "text/html": [
       "<div>\n",
       "<style scoped>\n",
       "    .dataframe tbody tr th:only-of-type {\n",
       "        vertical-align: middle;\n",
       "    }\n",
       "\n",
       "    .dataframe tbody tr th {\n",
       "        vertical-align: top;\n",
       "    }\n",
       "\n",
       "    .dataframe thead th {\n",
       "        text-align: right;\n",
       "    }\n",
       "</style>\n",
       "<table border=\"1\" class=\"dataframe\">\n",
       "  <thead>\n",
       "    <tr style=\"text-align: right;\">\n",
       "      <th></th>\n",
       "      <th>customer_id</th>\n",
       "      <th>last_purchase_date</th>\n",
       "      <th>frequency</th>\n",
       "      <th>monetary_value</th>\n",
       "    </tr>\n",
       "  </thead>\n",
       "  <tbody>\n",
       "    <tr>\n",
       "      <th>0</th>\n",
       "      <td>-1</td>\n",
       "      <td>2010-12-09</td>\n",
       "      <td>5229</td>\n",
       "      <td>1191276.06</td>\n",
       "    </tr>\n",
       "    <tr>\n",
       "      <th>1</th>\n",
       "      <td>12346</td>\n",
       "      <td>2010-10-04</td>\n",
       "      <td>15</td>\n",
       "      <td>-64.68</td>\n",
       "    </tr>\n",
       "    <tr>\n",
       "      <th>2</th>\n",
       "      <td>12347</td>\n",
       "      <td>2010-12-07</td>\n",
       "      <td>2</td>\n",
       "      <td>1323.32</td>\n",
       "    </tr>\n",
       "    <tr>\n",
       "      <th>3</th>\n",
       "      <td>12348</td>\n",
       "      <td>2010-09-27</td>\n",
       "      <td>1</td>\n",
       "      <td>222.16</td>\n",
       "    </tr>\n",
       "    <tr>\n",
       "      <th>4</th>\n",
       "      <td>12349</td>\n",
       "      <td>2010-10-28</td>\n",
       "      <td>4</td>\n",
       "      <td>2646.99</td>\n",
       "    </tr>\n",
       "    <tr>\n",
       "      <th>...</th>\n",
       "      <td>...</td>\n",
       "      <td>...</td>\n",
       "      <td>...</td>\n",
       "      <td>...</td>\n",
       "    </tr>\n",
       "    <tr>\n",
       "      <th>4379</th>\n",
       "      <td>18283</td>\n",
       "      <td>2010-11-22</td>\n",
       "      <td>6</td>\n",
       "      <td>641.77</td>\n",
       "    </tr>\n",
       "    <tr>\n",
       "      <th>4380</th>\n",
       "      <td>18284</td>\n",
       "      <td>2010-10-06</td>\n",
       "      <td>2</td>\n",
       "      <td>436.68</td>\n",
       "    </tr>\n",
       "    <tr>\n",
       "      <th>4381</th>\n",
       "      <td>18285</td>\n",
       "      <td>2010-02-17</td>\n",
       "      <td>1</td>\n",
       "      <td>427.00</td>\n",
       "    </tr>\n",
       "    <tr>\n",
       "      <th>4382</th>\n",
       "      <td>18286</td>\n",
       "      <td>2010-08-20</td>\n",
       "      <td>3</td>\n",
       "      <td>1188.43</td>\n",
       "    </tr>\n",
       "    <tr>\n",
       "      <th>4383</th>\n",
       "      <td>18287</td>\n",
       "      <td>2010-11-22</td>\n",
       "      <td>5</td>\n",
       "      <td>2340.61</td>\n",
       "    </tr>\n",
       "  </tbody>\n",
       "</table>\n",
       "<p>4384 rows × 4 columns</p>\n",
       "</div>"
      ],
      "text/plain": [
       "      customer_id last_purchase_date  frequency  monetary_value\n",
       "0              -1         2010-12-09       5229      1191276.06\n",
       "1           12346         2010-10-04         15          -64.68\n",
       "2           12347         2010-12-07          2         1323.32\n",
       "3           12348         2010-09-27          1          222.16\n",
       "4           12349         2010-10-28          4         2646.99\n",
       "...           ...                ...        ...             ...\n",
       "4379        18283         2010-11-22          6          641.77\n",
       "4380        18284         2010-10-06          2          436.68\n",
       "4381        18285         2010-02-17          1          427.00\n",
       "4382        18286         2010-08-20          3         1188.43\n",
       "4383        18287         2010-11-22          5         2340.61\n",
       "\n",
       "[4384 rows x 4 columns]"
      ]
     },
     "execution_count": 84,
     "metadata": {},
     "output_type": "execute_result"
    }
   ],
   "source": [
    "pd.read_sql(\"Select * from Customer_frequency\", post_con)"
   ]
  },
  {
   "cell_type": "code",
   "execution_count": 85,
   "id": "b9aaddc2",
   "metadata": {},
   "outputs": [],
   "source": [
    "post_con.close()"
   ]
  }
 ],
 "metadata": {
  "kernelspec": {
   "display_name": "Python 3",
   "language": "python",
   "name": "python3"
  },
  "language_info": {
   "codemirror_mode": {
    "name": "ipython",
    "version": 3
   },
   "file_extension": ".py",
   "mimetype": "text/x-python",
   "name": "python",
   "nbconvert_exporter": "python",
   "pygments_lexer": "ipython3",
   "version": "3.10.11"
  }
 },
 "nbformat": 4,
 "nbformat_minor": 5
}
